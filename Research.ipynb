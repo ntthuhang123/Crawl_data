{
 "cells": [
  {
   "cell_type": "code",
   "execution_count": 1,
   "id": "0c23b125",
   "metadata": {},
   "outputs": [],
   "source": [
    "import numpy as np\n",
    "import pandas as pd\n",
    "from selenium import webdriver\n",
    "import random\n",
    "from selenium.common.exceptions import NoSuchElementException, ElementNotInteractableException\n",
    "from selenium.webdriver.common.by import By\n",
    "import time"
   ]
  },
  {
   "cell_type": "code",
   "execution_count": null,
   "id": "b8de6d2c",
   "metadata": {},
   "outputs": [
    {
     "name": "stderr",
     "output_type": "stream",
     "text": [
      "C:\\Users\\BSS\\AppData\\Local\\Temp\\ipykernel_19520\\4067492290.py:1: DeprecationWarning: executable_path has been deprecated, please pass in a Service object\n",
      "  driver = webdriver.Chrome('./chromedriver.exe')\n"
     ]
    }
   ],
   "source": [
    "driver = webdriver.Chrome('./chromedriver.exe')\n",
    "driver.maximize_window()\n",
    "kw_list = ['B2B','Wholesale','B2B Order','Wholesale order','Request For Quote','Lock','Hide price','Password',\n",
    "           'Referral','Loyalty','Rewards','Label','Badge','Product Option',\n",
    "          'Customize Product','Session recording','Visitor Replay','Store Locator','Locator Map','Subscriptions']\n",
    "kw_list_1 = ['Wholesale','Wholesale order','Lock','Password','Loyalty','Label','Product Option','Session recording','Store Locator','Subscriptions']\n",
    "\n",
    "element_list = []\n",
    "ranking = 1\n",
    "break_loop = False\n",
    "condition_rank = 50\n",
    "for i in kw_list_1:\n",
    "    for j in range(1,4):\n",
    "        if break_loop == True:\n",
    "            ranking = 1\n",
    "            break_loop = False\n",
    "            break\n",
    "        driver.get(f'https://apps.shopify.com/search?q={i}&page={j}')\n",
    "        time.sleep(2)\n",
    "        for h in range(1,25):\n",
    "            if ranking > condition_rank:\n",
    "                if j == 3:\n",
    "                    break_loop = False\n",
    "                    ranking = 1\n",
    "                else:\n",
    "                    break_loop = True\n",
    "                break\n",
    "            name = driver.find_element(By.XPATH,f'//*[@id=\"search_app_grid\"]/div/div/div[{h}]/div/div/div/div[1]').text\n",
    "            short_description = driver.find_element(By.XPATH,f'//*[@id=\"search_app_grid\"]/div/div/div[{h}]/div/div/div/div[3]').text\n",
    "            review = driver.find_element(By.XPATH,f'//*[@id=\"search_app_grid\"]/div/div/div[{h}]/div/div/div/div[2]/span[3]').text\n",
    "            rating = driver.find_element(By.XPATH,f'//*[@id=\"search_app_grid\"]/div/div/div[{h}]/div/div/div/div[2]/span[1]').text[0:3]\n",
    "            link = driver.find_element(By.XPATH,f'//*[@id=\"search_app_grid\"]/div/div/div[{h}]/div/div/div/div[1]/a').get_attribute('href')\n",
    "            driver.get(link)\n",
    "            time.sleep(2)\n",
    "            owner = driver.find_element(By.XPATH,'//*[@id=\"adp-hero\"]/div/div/div[1]/div/div[1]/div[2]/div[2]/div[3]/div').text\n",
    "            full_description =  driver.find_element(By.XPATH,'//*[@id=\"adp-details-section\"]/div/div/div[2]').text\n",
    "            try:\n",
    "                pricing_plan = driver.find_element(By.XPATH,'//*[@id=\"adp-pricing\"]/div/div/div/div[2]').text\n",
    "            except NoSuchElementException:\n",
    "                print('No plan')\n",
    "                pricing_plan = 'No plan'\n",
    "            element_item = {\n",
    "                    'Name':name,\n",
    "                    'Link':link,\n",
    "                    'Owner':owner,\n",
    "                    'Short_description': short_description,\n",
    "                    'Rating':rating,\n",
    "                    'Review': review,\n",
    "                    'Full_description': full_description,\n",
    "                    'Pricing_plan': pricing_plan,\n",
    "                    'ranking':ranking\n",
    "                         }\n",
    "            element_list.append(element_item)\n",
    "            ranking = ranking + 1 \n",
    "            driver.execute_script(\"window.history.go(-1)\")\n",
    "            time.sleep(2)\n",
    "                \n",
    "    print(f\"Find key word {i}\")\n",
    "                    \n",
    "    "
   ]
  },
  {
   "cell_type": "code",
   "execution_count": null,
   "id": "4bb10c56",
   "metadata": {},
   "outputs": [],
   "source": [
    "df_1 = pd.DataFrame(element_list)\n",
    "df_1"
   ]
  },
  {
   "cell_type": "code",
   "execution_count": null,
   "id": "b6c5182f",
   "metadata": {},
   "outputs": [],
   "source": [
    "#clean data\n",
    "# link_column:\n",
    "df_1['Link'] = df_1['Link'].apply(lambda x: pd.Series(str(x).split(\"?\")))[0] \n",
    "df_1['Link']\n",
    "#Review_column:\n",
    "review_list = []\n",
    "for i in df_1.Review:\n",
    "    rw = i[1:-1]\n",
    "    review_list.append(rw)\n",
    "df_1.Review = review_list"
   ]
  },
  {
   "cell_type": "code",
   "execution_count": null,
   "id": "06fb11d4",
   "metadata": {},
   "outputs": [],
   "source": [
    "#Import data into file data ranking\n",
    "import gspread\n",
    "from gspread_dataframe import set_with_dataframe\n",
    "from google.oauth2.service_account import Credentials\n",
    "from pydrive.auth import GoogleAuth\n",
    "from pydrive.drive import GoogleDrive\n",
    "import pygsheets\n",
    "\n",
    "client = pygsheets.authorize(service_account_file=\"b2breviews-018c032a2741.json\")\n",
    "sh=client.open('Linh - Full Shopify App Market Research')\n",
    "wks = sh.worksheet_by_title('Ranking Data') # open the existing file\n",
    "cells = wks.get_all_values(include_tailing_empty_rows=False, include_tailing_empty=False, returnas='matrix')\n",
    "last_row_1 = len(cells)+1\n",
    "wks.set_dataframe(df_1,(last_row_1,0),copy_head = False,extend = True )"
   ]
  }
 ],
 "metadata": {
  "kernelspec": {
   "display_name": "Python 3 (ipykernel)",
   "language": "python",
   "name": "python3"
  },
  "language_info": {
   "codemirror_mode": {
    "name": "ipython",
    "version": 3
   },
   "file_extension": ".py",
   "mimetype": "text/x-python",
   "name": "python",
   "nbconvert_exporter": "python",
   "pygments_lexer": "ipython3",
   "version": "3.9.13"
  }
 },
 "nbformat": 4,
 "nbformat_minor": 5
}
